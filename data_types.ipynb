{
 "cells": [
  {
   "cell_type": "markdown",
   "metadata": {},
   "source": [
    "# How do we optimally store and access data?"
   ]
  },
  {
   "cell_type": "markdown",
   "metadata": {},
   "source": [
    "## Option 1: use regular `variables`\n",
    "E.g., `strings`, `ints`, `floats`"
   ]
  },
  {
   "cell_type": "code",
   "execution_count": null,
   "metadata": {},
   "outputs": [],
   "source": [
    "# A person has four attributes. \n",
    "person1_name = \"Bob\"\n",
    "person1_phone = \"610-343-3483\"\n",
    "person1_work = \"Engineer\"\n",
    "person1_age = 45\n",
    "\n",
    "person2_name = \"Jill\"\n",
    "person2_phone = \"610-423-3443\"\n",
    "person2_work = \"Professor\"\n",
    "person2_age = 38\n",
    "\n",
    "# For 10 people we would need 40 variables. "
   ]
  },
  {
   "cell_type": "code",
   "execution_count": null,
   "metadata": {},
   "outputs": [],
   "source": [
    "# Access person 1's name.\n",
    "print(person1_name, \"\\n\")"
   ]
  },
  {
   "cell_type": "code",
   "execution_count": null,
   "metadata": {},
   "outputs": [],
   "source": [
    "# Access person 2's informmation.\n",
    "print(f\"{person2_name}\\n{person2_phone}\\n{person2_work}\\n{person2_age}\")"
   ]
  },
  {
   "cell_type": "markdown",
   "metadata": {},
   "source": [
    "## Option 2: use `lists`"
   ]
  },
  {
   "cell_type": "code",
   "execution_count": null,
   "metadata": {},
   "outputs": [],
   "source": [
    "people = [\n",
    "    [\"Bob\", \"610-343-3483\", \"Engineer\", 45],\n",
    "    [\"Jill\", \"610-423-3443\", \"Professor\", 38]\n",
    "]\n",
    "\n",
    "# Just 1 variable for any amount of data.\n",
    "\n",
    "# The shortcoming of lists is that there are no keys. \n",
    "# It's not obvious that this will give you a name:\n",
    "# people[0][0]"
   ]
  },
  {
   "cell_type": "code",
   "execution_count": null,
   "metadata": {},
   "outputs": [],
   "source": [
    "# Access person 1's name.\n",
    "print(people[0][0], \"\\n\")"
   ]
  },
  {
   "cell_type": "code",
   "execution_count": null,
   "metadata": {},
   "outputs": [],
   "source": [
    "# Access person 2's informmation.\n",
    "for data in people[1]:\n",
    "    print(data)"
   ]
  },
  {
   "cell_type": "markdown",
   "metadata": {},
   "source": [
    "## Option 3: use `dictionaries`"
   ]
  },
  {
   "cell_type": "code",
   "execution_count": null,
   "metadata": {},
   "outputs": [],
   "source": [
    "people = {\n",
    "    1: {\n",
    "        \"name\" :  \"Bob\" ,\n",
    "        \"phone\":  \"610-343-3483\",\n",
    "        \"work\" :  \"Engineer\",\n",
    "        \"age\"  :   45,\n",
    "    }\n",
    "}\n",
    "\n",
    "people[2] = {}\n",
    "people[2][\"name\"] = \"Jill\"\n",
    "people[2][\"phone\"] = \"610-423-3443\"\n",
    "people[2][\"work\"] = \"Professor\"\n",
    "people[2][\"age\"] = 38"
   ]
  },
  {
   "cell_type": "code",
   "execution_count": null,
   "metadata": {},
   "outputs": [],
   "source": [
    "# Access person 1's name.\n",
    "print(people[1][\"name\"], \"\\n\")"
   ]
  },
  {
   "cell_type": "code",
   "execution_count": null,
   "metadata": {},
   "outputs": [],
   "source": [
    "# Access person 2's informmation.\n",
    "for data in people[2].keys():\n",
    "    print(people[2][data])"
   ]
  },
  {
   "cell_type": "markdown",
   "metadata": {},
   "source": [
    "## Option 4: use `classes`"
   ]
  },
  {
   "cell_type": "code",
   "execution_count": null,
   "metadata": {},
   "outputs": [],
   "source": [
    "class Person:\n",
    "\n",
    "    def __init__(self, name=\"\", phone=\"\", work=\"\", age=0):\n",
    "        self.name = name \n",
    "        self.phone = phone \n",
    "        self.work = work\n",
    "        self.age = age\n",
    "    \n",
    "    def get_data(self):\n",
    "        return [self.name, self.phone, self.work, self.age]\n",
    "\n",
    "\n",
    "person_1 = Person(\"Bob\", \"610-343-3483\", \"Engineer\", 45)\n",
    "person_2 = Person(\"Jill\", \"610-423-3443\", \"Professor\", 38)"
   ]
  },
  {
   "cell_type": "code",
   "execution_count": null,
   "metadata": {},
   "outputs": [],
   "source": [
    "# Access person 1's name.\n",
    "print(person_1.name, \"\\n\")"
   ]
  },
  {
   "cell_type": "code",
   "execution_count": null,
   "metadata": {},
   "outputs": [],
   "source": [
    "# Access person 2's informmation.\n",
    "for data in vars(person_2):\n",
    "    print(f\"{data}: {getattr(person_2, data)}\")"
   ]
  },
  {
   "cell_type": "code",
   "execution_count": null,
   "metadata": {},
   "outputs": [],
   "source": [
    "# Easily update the data. \n",
    "person_2.age += 1\n",
    "\n",
    "# Use class function:\n",
    "for data in person_2.get_data():\n",
    "    print(data)"
   ]
  }
 ],
 "metadata": {
  "interpreter": {
   "hash": "7812ea015bdcee6f23a998adcdd2ef97c151c0c241b7b7070987d9313e41299d"
  },
  "kernelspec": {
   "display_name": "Python 3.9.5 64-bit",
   "name": "python3"
  },
  "language_info": {
   "codemirror_mode": {
    "name": "ipython",
    "version": 3
   },
   "file_extension": ".py",
   "mimetype": "text/x-python",
   "name": "python",
   "nbconvert_exporter": "python",
   "pygments_lexer": "ipython3",
   "version": "3.9.5"
  },
  "orig_nbformat": 4
 },
 "nbformat": 4,
 "nbformat_minor": 2
}
